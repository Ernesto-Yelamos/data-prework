{
 "cells": [
  {
   "cell_type": "markdown",
   "metadata": {},
   "source": [
    "<img src=\"https://bit.ly/2VnXWr2\" width=\"100\" align=\"left\">"
   ]
  },
  {
   "cell_type": "markdown",
   "metadata": {},
   "source": [
    "# Temperature Sensor\n",
    "\n",
    "There is a temperature sensor in the processor of your company's server. The company wants to analyze the data provided by the sensor to decide if they should change the cooling system for a better one. As changing the cooling system is expensive and you are an excellent data analyst, you can't make a decision without basis.\n",
    "\n",
    "## Tools\n",
    "You don't necessarily need to use all the tools. Maybe you opt to use some of them or completely different ones, they are given to help you shape the exercise. Programming exercises can be solved in many different ways.\n",
    "1. Data structures: **lists**\n",
    "2. Loops: **list comprehension**\n",
    "3. Functions: **min, max, print, len**\n",
    "4. Conditional statements: **if-elif-else**\n",
    "\n",
    "## Tasks\n",
    "The temperatures measured throughout the 24 hours of a day are:"
   ]
  },
  {
   "cell_type": "code",
   "execution_count": null,
   "metadata": {},
   "outputs": [],
   "source": [
    "temperatures_C = [33, 66, 65, 0, 59, 60, 62, 64, 70, 76, 80, 81, 80, 83, 90, 79, 61, 53, 50, 49, 53, 48, 45, 39]"
   ]
  },
  {
   "cell_type": "markdown",
   "metadata": {},
   "source": [
    "The first element of the list is the temperature at 12am, the second element is the temperature at 1am, and so on. \n",
    "\n",
    "The company has decided that if one of the following events occurs, then the cooling system needs to be replaced for a new one to avoid damaging the processor.\n",
    "* More than 4 temperatures are greater than or equal to 70ºC.\n",
    "* Any temperature is above 80ºC.\n",
    "* The average temperature exceeds 65ºC.\n",
    "\n",
    "Follow the steps so that you can make the decision.\n",
    "\n",
    "#### 1. Find the minimum temperature of the day and store it in a variable."
   ]
  },
  {
   "cell_type": "code",
   "execution_count": null,
   "metadata": {},
   "outputs": [],
   "source": [
    "min_temp = min(temperatures_C)\n",
    "print(min_temp)\n",
    "# solution = 0"
   ]
  },
  {
   "cell_type": "markdown",
   "metadata": {},
   "source": [
    "#### 2. Find the maximum temperature of the day and store it in a variable."
   ]
  },
  {
   "cell_type": "code",
   "execution_count": null,
   "metadata": {},
   "outputs": [],
   "source": [
    "max_temp = max(temperatures_C)\n",
    "print(max_temp)\n",
    "# solution = 90"
   ]
  },
  {
   "cell_type": "markdown",
   "metadata": {},
   "source": [
    "#### 3. Create a list with the temperatures that are greater than or equal to 70ºC. Store it in a variable."
   ]
  },
  {
   "cell_type": "code",
   "execution_count": null,
   "metadata": {},
   "outputs": [],
   "source": [
    "temperatures_C2 = [i for i in temperatures_C if i >= 70]\n",
    "print(temperatures_C2)\n",
    "# output [70, 76, 80, 81, 80, 83, 90, 79]"
   ]
  },
  {
   "cell_type": "markdown",
   "metadata": {},
   "source": [
    "#### 4. Find the average temperature of the day and store it in a variable."
   ]
  },
  {
   "cell_type": "code",
   "execution_count": null,
   "metadata": {},
   "outputs": [],
   "source": [
    "temperatures_C = [33, 66, 65, 0, 59, 60, 62, 64, 70, 76, 80, 81, 80, 83, 90, 79, 61, 53, 50, 49, 53, 48, 45, 39]\n",
    "num = sum(temperatures_C)\n",
    "den = len(temperatures_C)\n",
    "avg_day = num / den\n",
    "print(avg_day)\n",
    "# output = 60.25"
   ]
  },
  {
   "cell_type": "markdown",
   "metadata": {},
   "source": [
    "#### 5. Imagine that there was a sensor failure at 3am and the data for that specific hour was not recorded. How would you estimate the missing value? Replace the current value of the list at 3am for an estimation. "
   ]
  },
  {
   "cell_type": "code",
   "execution_count": null,
   "metadata": {},
   "outputs": [],
   "source": [
    "temperatures_C = [33, 66, 65, 0, 59, 60, 62, 64, 70, 76, 80, 81, 80, 83, 90, 79, 61, 53, 50, 49, 53, 48, 45, 39]\n",
    "isolated_temps = [temperatures_C[i] for i in (2, 4)]\n",
    "num = sum(isolated_temps)\n",
    "den = len(isolated_temps)\n",
    "estimation_missing_value = num / den\n",
    "print('Estimated value at 3 am is:', estimation_missing_value,'˚C')\n",
    "# output - Estimated value at 3 am is: 62˚C"
   ]
  },
  {
   "cell_type": "markdown",
   "metadata": {},
   "source": [
    "#### 6. Bonus: the maintenance staff is from the United States and does not understand the international metric system. Help them by converting the temperatures from Celsius to Fahrenheit.\n",
    "To know more about temperature conversion check this [link](https://en.wikipedia.org/wiki/Conversion_of_units_of_temperature).\n",
    "\n",
    "**Formula**: \n",
    "\n",
    "$F = 1.8 * C + 32$"
   ]
  },
  {
   "cell_type": "code",
   "execution_count": null,
   "metadata": {},
   "outputs": [],
   "source": [
    "temperatures_F = [((temp * 1.8) + 32) for temp in temperatures_C]\n",
    "print(temperatures_F)"
   ]
  },
  {
   "cell_type": "markdown",
   "metadata": {},
   "source": [
    "#### 7. Make a decision!\n",
    "Now it's time to make a decision taking into account what you have seen until now. \n",
    "\n",
    "Remember that if one of the following events occurs, then the cooling system needs to be replaced for a new one to avoid damaging the processor.\n",
    "* More than 4 temperatures are greater than or equal to 70ºC.\n",
    "* Any temperature is above 80ºC.\n",
    "* The average temperature exceeds 65ºC.\n",
    "\n",
    "#### To make your decision, check if any of the three conditions above is met. You might need to use some of the variables you created in steps 1 to 6. Print a message to show if the cooling system needs to be changed or not."
   ]
  },
  {
   "cell_type": "code",
   "execution_count": null,
   "metadata": {},
   "outputs": [],
   "source": [
    "temperatures_C = [33, 66, 65, 0, 59, 60, 62, 64, 70, 76, 80, 81, 80, 83, 90, 79, 61, 53, 50, 49, 53, 48, 45, 39]\n",
    "temperatures_C2 = [i for i in temperatures_C if i >= 70]\n",
    "temperatures_C3 = [i for i in temperatures_C if i > 80]\n",
    "num = sum(temperatures_C)\n",
    "den = len(temperatures_C)\n",
    "avg_day = num / den\n",
    "\n",
    "if len(temperatures_C2) > 4:\n",
    "    print('Cooling system needs to be replaced as soon as possible.')\n",
    "elif len(temperatures_C3) >= 1:\n",
    "    print('Cooling system needs to be replaced as soon as possible.')\n",
    "elif avg_day > 65:\n",
    "            print('Cooling system needs to be replaced as soon as possible.')\n",
    "else:\n",
    "    print(\"No changes are needed.\")"
   ]
  },
  {
   "cell_type": "markdown",
   "metadata": {},
   "source": [
    "## Bonus\n",
    "\n",
    "The company has decided that the decision you made is not valid. They want you to analyze the data again but this time, the conditions that need to be met in order to change the cooling system are different.\n",
    "\n",
    "This time, if one of the following events occurs, then the cooling system needs to be replaced:\n",
    "* The temperature is greater than 70ºC during more than 4 consecutive hours.\n",
    "* Any temperature is above 80ºC.\n",
    "* The average temperature exceeds 65ºC.\n",
    "\n",
    "Follow the steps so that you can make the decision.\n",
    "\n",
    "#### 1. Create a list with the hours where the temperature is greater than 70ºC. Store it in a variable."
   ]
  },
  {
   "cell_type": "code",
   "execution_count": null,
   "metadata": {},
   "outputs": [],
   "source": [
    "temperatures_C = [33, 66, 65, 0, 59, 60, 62, 64, 70, 76, 80, 81, 80, 83, 90, 79, 61, 53, 50, 49, 53, 48, 45, 39]\n",
    "temperatures_C2 = [i for i in temperatures_C if i > 70]\n",
    "\n",
    "hours_temp_over70 = [i for i in range(len(temperatures_C)) if temperatures_C[i] > 70]\n",
    "print(hours_temp_over70)\n",
    "# output: hours_temp_over70 = [9, 10, 11, 12, 13, 14, 15]\n",
    "\n",
    "hours_temp_over70 = [9, 10, 11, 12, 13, 14, 15]"
   ]
  },
  {
   "cell_type": "markdown",
   "metadata": {},
   "source": [
    "#### 2. Check if the list you created in step 1 has more than 4 consecutive hours. "
   ]
  },
  {
   "cell_type": "code",
   "execution_count": null,
   "metadata": {},
   "outputs": [],
   "source": [
    "hours_temp_over70 = [9, 10, 11, 12, 13, 14, 15]\n",
    "def ranges(hours_temp_over70):\n",
    "    l = sorted(set(hours_temp_over70))\n",
    "    gaps = [[s, e] for s, e in zip(hours_temp_over70, hours_temp_over70[1:]) if s+1 < e]\n",
    "    edges = iter(hours_temp_over70[:1] + sum(gaps, []) + l[-1:])\n",
    "    return list(zip(edges, edges))\n",
    "\n"
   ]
  },
  {
   "cell_type": "markdown",
   "metadata": {},
   "source": [
    "#### 3. Make the decision!\n",
    "To make your decision, check if any of the three conditions is met. Print a message to show if the cooling system needs to be changed or not."
   ]
  },
  {
   "cell_type": "code",
   "execution_count": null,
   "metadata": {},
   "outputs": [],
   "source": [
    "temperatures_C = [33, 66, 65, 0, 59, 60, 62, 64, 70, 76, 80, 81, 80, 83, 90, 79, 61, 53, 50, 49, 53, 48, 45, 39]\n",
    "hours_temp_over70 = [9, 10, 11, 12, 13, 14, 15]\n",
    "num = sum(temperatures_C)\n",
    "den = len(temperatures_C)\n",
    "avg_day = num / den\n",
    "hours_temp_over70 = [9, 10, 11, 12, 13, 14, 15]\n",
    "\n",
    "if len(hours_temp_over70) > 4:\n",
    "    print(\"Cooling system should be changed!\")\n",
    "elif len(hours_temp_over70) >= 1:\n",
    "    print(\"Cooling system should be changed!\")\n",
    "elif avg_day > 65:\n",
    "    print(\"Cooling system should be changed!\")\n",
    "else:\n",
    "    print(\"Cooling system is fine\")\n",
    "\n",
    "#\"Cooling system should be changed!\""
   ]
  },
  {
   "cell_type": "markdown",
   "metadata": {},
   "source": [
    "#### 4. Find the average value of the temperature lists (ºC and ºF). What is the relation between both average values?"
   ]
  },
  {
   "cell_type": "code",
   "execution_count": null,
   "metadata": {},
   "outputs": [],
   "source": [
    "temperatures_C = [33, 66, 65, 0, 59, 60, 62, 64, 70, 76, 80, 81, 80, 83, 90, 79, 61, 53, 50, 49, 53, 48, 45, 39]\n",
    "num = sum(temperatures_C)\n",
    "den = len(temperatures_C)\n",
    "avg_day_C = num / den\n",
    "# 60.25\n",
    "\n",
    "temperatures_F = [91.4, 150.8, 149, 32, 138.2, 140, 143.6, 147.2, 158, 168.8, 176, 177.8, 176, 181.4, 194, 174.2, 141.8, 127.4, 122, 120.2, 127.4, 118.4, 113, 102.2]\n",
    "num = sum(temperatures_F)\n",
    "den = len(temperatures_F)\n",
    "avg_day_F = num / den\n",
    "# 140.45\n",
    "\n",
    "# relation\n",
    "avg_day_F = ((avg_day_C * 1.8) + 32) \n",
    "print(avg_day_F)"
   ]
  },
  {
   "cell_type": "markdown",
   "metadata": {},
   "source": [
    "#### 5. Find the standard deviation of the temperature lists (ºC and ºF). What is the relation between both standard deviations?"
   ]
  },
  {
   "cell_type": "code",
   "execution_count": null,
   "metadata": {},
   "outputs": [],
   "source": [
    "temperatures_C = [33, 66, 65, 0, 59, 60, 62, 64, 70, 76, 80, 81, 80, 83, 90, 79, 61, 53, 50, 49, 53, 48, 45, 39]\n",
    "import statistics\n",
    "stdev_C = statistics.stdev(temperatures_C)\n",
    "# 19.70\n",
    "\n",
    "temperatures_F = [91.4, 150.8, 149, 32, 138.2, 140, 143.6, 147.2, 158, 168.8, 176, 177.8, 176, 181.4, 194, 174.2, 141.8, 127.4, 122, 120.2, 127.4, 118.4, 113, 102.2]\n",
    "import statistics\n",
    "stdev_F = statistics.stdev(temperatures_F)\n",
    "# 35.46"
   ]
  }
 ],
 "metadata": {
  "kernelspec": {
   "display_name": "Python 3",
   "language": "python",
   "name": "python3"
  },
  "language_info": {
   "codemirror_mode": {
    "name": "ipython",
    "version": 3
   },
   "file_extension": ".py",
   "mimetype": "text/x-python",
   "name": "python",
   "nbconvert_exporter": "python",
   "pygments_lexer": "ipython3",
   "version": "3.8.3"
  }
 },
 "nbformat": 4,
 "nbformat_minor": 2
}
